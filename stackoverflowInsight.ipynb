{
  "nbformat": 4,
  "nbformat_minor": 0,
  "metadata": {
    "colab": {
      "provenance": [],
      "collapsed_sections": []
    },
    "kernelspec": {
      "name": "python3",
      "display_name": "Python 3"
    },
    "language_info": {
      "name": "python"
    }
  },
  "cells": [
    {
      "cell_type": "markdown",
      "source": [
        "### Is there a gender balance for developer characteristics?\n",
        "1. What is the gender proportion for developers?\n",
        "2. Are there professional differences between men and women?\n",
        "3. As a developer, are women as satisfied with their jobs as men?\n",
        "4. How does gender affect salary?\n"
      ],
      "metadata": {
        "id": "3pkRtOmeE_Ly"
      }
    },
    {
      "cell_type": "code",
      "source": [
        "import pandas as pd\n",
        "import matplotlib.pyplot as plt\n",
        "import numpy as np\n",
        "%matplotlib inline"
      ],
      "metadata": {
        "id": "ThtQ7R-xWDWp"
      },
      "execution_count": 2,
      "outputs": []
    },
    {
      "cell_type": "code",
      "source": [
        "df = pd.read_csv('Dataset/2017/survey_results_public.csv')\n",
        "df_schema = pd.read_csv('Dataset/2017/survey_results_schema.csv')"
      ],
      "metadata": {
        "id": "WA3rgp7dWLPV"
      },
      "execution_count": 3,
      "outputs": []
    },
    {
      "cell_type": "code",
      "source": [
        "df.head()"
      ],
      "metadata": {
        "colab": {
          "base_uri": "https://localhost:8080/",
          "height": 595
        },
        "id": "9gQhNQUJWcWW",
        "outputId": "8e0a9712-b4e1-478e-a434-be65963fd35b"
      },
      "execution_count": 4,
      "outputs": [
        {
          "output_type": "execute_result",
          "data": {
            "text/plain": [
              "   Respondent                                       Professional  \\\n",
              "0           1                                            Student   \n",
              "1           2                                            Student   \n",
              "2           3                             Professional developer   \n",
              "3           4  Professional non-developer who sometimes write...   \n",
              "4           5                             Professional developer   \n",
              "\n",
              "                ProgramHobby         Country      University  \\\n",
              "0                  Yes, both   United States              No   \n",
              "1                  Yes, both  United Kingdom  Yes, full-time   \n",
              "2                  Yes, both  United Kingdom              No   \n",
              "3                  Yes, both   United States              No   \n",
              "4  Yes, I program as a hobby     Switzerland              No   \n",
              "\n",
              "                         EmploymentStatus  \\\n",
              "0  Not employed, and not looking for work   \n",
              "1                      Employed part-time   \n",
              "2                      Employed full-time   \n",
              "3                      Employed full-time   \n",
              "4                      Employed full-time   \n",
              "\n",
              "                                     FormalEducation  \\\n",
              "0                                   Secondary school   \n",
              "1  Some college/university study without earning ...   \n",
              "2                                  Bachelor's degree   \n",
              "3                                    Doctoral degree   \n",
              "4                                    Master's degree   \n",
              "\n",
              "                                  MajorUndergrad  \\\n",
              "0                                            NaN   \n",
              "1       Computer science or software engineering   \n",
              "2       Computer science or software engineering   \n",
              "3  A non-computer-focused engineering discipline   \n",
              "4       Computer science or software engineering   \n",
              "\n",
              "                                          HomeRemote  \\\n",
              "0                                                NaN   \n",
              "1              More than half, but not all, the time   \n",
              "2  Less than half the time, but at least one day ...   \n",
              "3  Less than half the time, but at least one day ...   \n",
              "4                                              Never   \n",
              "\n",
              "                CompanySize  ... StackOverflowMakeMoney Gender  \\\n",
              "0                       NaN  ...      Strongly disagree   Male   \n",
              "1        20 to 99 employees  ...      Strongly disagree   Male   \n",
              "2  10,000 or more employees  ...               Disagree   Male   \n",
              "3  10,000 or more employees  ...               Disagree   Male   \n",
              "4        10 to 19 employees  ...                    NaN    NaN   \n",
              "\n",
              "  HighestEducationParents                          Race         SurveyLong  \\\n",
              "0             High school  White or of European descent  Strongly disagree   \n",
              "1       A master's degree  White or of European descent     Somewhat agree   \n",
              "2   A professional degree  White or of European descent     Somewhat agree   \n",
              "3       A doctoral degree  White or of European descent              Agree   \n",
              "4                     NaN                           NaN                NaN   \n",
              "\n",
              "  QuestionsInteresting QuestionsConfusing InterestedAnswers    Salary  \\\n",
              "0       Strongly agree           Disagree    Strongly agree       NaN   \n",
              "1       Somewhat agree           Disagree    Strongly agree       NaN   \n",
              "2                Agree           Disagree             Agree  113750.0   \n",
              "3                Agree     Somewhat agree    Strongly agree       NaN   \n",
              "4                  NaN                NaN               NaN       NaN   \n",
              "\n",
              "   ExpectedSalary  \n",
              "0             NaN  \n",
              "1         37500.0  \n",
              "2             NaN  \n",
              "3             NaN  \n",
              "4             NaN  \n",
              "\n",
              "[5 rows x 154 columns]"
            ],
            "text/html": [
              "\n",
              "  <div id=\"df-2b7f8899-05b6-471d-aa80-6a056d27ecf8\">\n",
              "    <div class=\"colab-df-container\">\n",
              "      <div>\n",
              "<style scoped>\n",
              "    .dataframe tbody tr th:only-of-type {\n",
              "        vertical-align: middle;\n",
              "    }\n",
              "\n",
              "    .dataframe tbody tr th {\n",
              "        vertical-align: top;\n",
              "    }\n",
              "\n",
              "    .dataframe thead th {\n",
              "        text-align: right;\n",
              "    }\n",
              "</style>\n",
              "<table border=\"1\" class=\"dataframe\">\n",
              "  <thead>\n",
              "    <tr style=\"text-align: right;\">\n",
              "      <th></th>\n",
              "      <th>Respondent</th>\n",
              "      <th>Professional</th>\n",
              "      <th>ProgramHobby</th>\n",
              "      <th>Country</th>\n",
              "      <th>University</th>\n",
              "      <th>EmploymentStatus</th>\n",
              "      <th>FormalEducation</th>\n",
              "      <th>MajorUndergrad</th>\n",
              "      <th>HomeRemote</th>\n",
              "      <th>CompanySize</th>\n",
              "      <th>...</th>\n",
              "      <th>StackOverflowMakeMoney</th>\n",
              "      <th>Gender</th>\n",
              "      <th>HighestEducationParents</th>\n",
              "      <th>Race</th>\n",
              "      <th>SurveyLong</th>\n",
              "      <th>QuestionsInteresting</th>\n",
              "      <th>QuestionsConfusing</th>\n",
              "      <th>InterestedAnswers</th>\n",
              "      <th>Salary</th>\n",
              "      <th>ExpectedSalary</th>\n",
              "    </tr>\n",
              "  </thead>\n",
              "  <tbody>\n",
              "    <tr>\n",
              "      <th>0</th>\n",
              "      <td>1</td>\n",
              "      <td>Student</td>\n",
              "      <td>Yes, both</td>\n",
              "      <td>United States</td>\n",
              "      <td>No</td>\n",
              "      <td>Not employed, and not looking for work</td>\n",
              "      <td>Secondary school</td>\n",
              "      <td>NaN</td>\n",
              "      <td>NaN</td>\n",
              "      <td>NaN</td>\n",
              "      <td>...</td>\n",
              "      <td>Strongly disagree</td>\n",
              "      <td>Male</td>\n",
              "      <td>High school</td>\n",
              "      <td>White or of European descent</td>\n",
              "      <td>Strongly disagree</td>\n",
              "      <td>Strongly agree</td>\n",
              "      <td>Disagree</td>\n",
              "      <td>Strongly agree</td>\n",
              "      <td>NaN</td>\n",
              "      <td>NaN</td>\n",
              "    </tr>\n",
              "    <tr>\n",
              "      <th>1</th>\n",
              "      <td>2</td>\n",
              "      <td>Student</td>\n",
              "      <td>Yes, both</td>\n",
              "      <td>United Kingdom</td>\n",
              "      <td>Yes, full-time</td>\n",
              "      <td>Employed part-time</td>\n",
              "      <td>Some college/university study without earning ...</td>\n",
              "      <td>Computer science or software engineering</td>\n",
              "      <td>More than half, but not all, the time</td>\n",
              "      <td>20 to 99 employees</td>\n",
              "      <td>...</td>\n",
              "      <td>Strongly disagree</td>\n",
              "      <td>Male</td>\n",
              "      <td>A master's degree</td>\n",
              "      <td>White or of European descent</td>\n",
              "      <td>Somewhat agree</td>\n",
              "      <td>Somewhat agree</td>\n",
              "      <td>Disagree</td>\n",
              "      <td>Strongly agree</td>\n",
              "      <td>NaN</td>\n",
              "      <td>37500.0</td>\n",
              "    </tr>\n",
              "    <tr>\n",
              "      <th>2</th>\n",
              "      <td>3</td>\n",
              "      <td>Professional developer</td>\n",
              "      <td>Yes, both</td>\n",
              "      <td>United Kingdom</td>\n",
              "      <td>No</td>\n",
              "      <td>Employed full-time</td>\n",
              "      <td>Bachelor's degree</td>\n",
              "      <td>Computer science or software engineering</td>\n",
              "      <td>Less than half the time, but at least one day ...</td>\n",
              "      <td>10,000 or more employees</td>\n",
              "      <td>...</td>\n",
              "      <td>Disagree</td>\n",
              "      <td>Male</td>\n",
              "      <td>A professional degree</td>\n",
              "      <td>White or of European descent</td>\n",
              "      <td>Somewhat agree</td>\n",
              "      <td>Agree</td>\n",
              "      <td>Disagree</td>\n",
              "      <td>Agree</td>\n",
              "      <td>113750.0</td>\n",
              "      <td>NaN</td>\n",
              "    </tr>\n",
              "    <tr>\n",
              "      <th>3</th>\n",
              "      <td>4</td>\n",
              "      <td>Professional non-developer who sometimes write...</td>\n",
              "      <td>Yes, both</td>\n",
              "      <td>United States</td>\n",
              "      <td>No</td>\n",
              "      <td>Employed full-time</td>\n",
              "      <td>Doctoral degree</td>\n",
              "      <td>A non-computer-focused engineering discipline</td>\n",
              "      <td>Less than half the time, but at least one day ...</td>\n",
              "      <td>10,000 or more employees</td>\n",
              "      <td>...</td>\n",
              "      <td>Disagree</td>\n",
              "      <td>Male</td>\n",
              "      <td>A doctoral degree</td>\n",
              "      <td>White or of European descent</td>\n",
              "      <td>Agree</td>\n",
              "      <td>Agree</td>\n",
              "      <td>Somewhat agree</td>\n",
              "      <td>Strongly agree</td>\n",
              "      <td>NaN</td>\n",
              "      <td>NaN</td>\n",
              "    </tr>\n",
              "    <tr>\n",
              "      <th>4</th>\n",
              "      <td>5</td>\n",
              "      <td>Professional developer</td>\n",
              "      <td>Yes, I program as a hobby</td>\n",
              "      <td>Switzerland</td>\n",
              "      <td>No</td>\n",
              "      <td>Employed full-time</td>\n",
              "      <td>Master's degree</td>\n",
              "      <td>Computer science or software engineering</td>\n",
              "      <td>Never</td>\n",
              "      <td>10 to 19 employees</td>\n",
              "      <td>...</td>\n",
              "      <td>NaN</td>\n",
              "      <td>NaN</td>\n",
              "      <td>NaN</td>\n",
              "      <td>NaN</td>\n",
              "      <td>NaN</td>\n",
              "      <td>NaN</td>\n",
              "      <td>NaN</td>\n",
              "      <td>NaN</td>\n",
              "      <td>NaN</td>\n",
              "      <td>NaN</td>\n",
              "    </tr>\n",
              "  </tbody>\n",
              "</table>\n",
              "<p>5 rows × 154 columns</p>\n",
              "</div>\n",
              "      <button class=\"colab-df-convert\" onclick=\"convertToInteractive('df-2b7f8899-05b6-471d-aa80-6a056d27ecf8')\"\n",
              "              title=\"Convert this dataframe to an interactive table.\"\n",
              "              style=\"display:none;\">\n",
              "        \n",
              "  <svg xmlns=\"http://www.w3.org/2000/svg\" height=\"24px\"viewBox=\"0 0 24 24\"\n",
              "       width=\"24px\">\n",
              "    <path d=\"M0 0h24v24H0V0z\" fill=\"none\"/>\n",
              "    <path d=\"M18.56 5.44l.94 2.06.94-2.06 2.06-.94-2.06-.94-.94-2.06-.94 2.06-2.06.94zm-11 1L8.5 8.5l.94-2.06 2.06-.94-2.06-.94L8.5 2.5l-.94 2.06-2.06.94zm10 10l.94 2.06.94-2.06 2.06-.94-2.06-.94-.94-2.06-.94 2.06-2.06.94z\"/><path d=\"M17.41 7.96l-1.37-1.37c-.4-.4-.92-.59-1.43-.59-.52 0-1.04.2-1.43.59L10.3 9.45l-7.72 7.72c-.78.78-.78 2.05 0 2.83L4 21.41c.39.39.9.59 1.41.59.51 0 1.02-.2 1.41-.59l7.78-7.78 2.81-2.81c.8-.78.8-2.07 0-2.86zM5.41 20L4 18.59l7.72-7.72 1.47 1.35L5.41 20z\"/>\n",
              "  </svg>\n",
              "      </button>\n",
              "      \n",
              "  <style>\n",
              "    .colab-df-container {\n",
              "      display:flex;\n",
              "      flex-wrap:wrap;\n",
              "      gap: 12px;\n",
              "    }\n",
              "\n",
              "    .colab-df-convert {\n",
              "      background-color: #E8F0FE;\n",
              "      border: none;\n",
              "      border-radius: 50%;\n",
              "      cursor: pointer;\n",
              "      display: none;\n",
              "      fill: #1967D2;\n",
              "      height: 32px;\n",
              "      padding: 0 0 0 0;\n",
              "      width: 32px;\n",
              "    }\n",
              "\n",
              "    .colab-df-convert:hover {\n",
              "      background-color: #E2EBFA;\n",
              "      box-shadow: 0px 1px 2px rgba(60, 64, 67, 0.3), 0px 1px 3px 1px rgba(60, 64, 67, 0.15);\n",
              "      fill: #174EA6;\n",
              "    }\n",
              "\n",
              "    [theme=dark] .colab-df-convert {\n",
              "      background-color: #3B4455;\n",
              "      fill: #D2E3FC;\n",
              "    }\n",
              "\n",
              "    [theme=dark] .colab-df-convert:hover {\n",
              "      background-color: #434B5C;\n",
              "      box-shadow: 0px 1px 3px 1px rgba(0, 0, 0, 0.15);\n",
              "      filter: drop-shadow(0px 1px 2px rgba(0, 0, 0, 0.3));\n",
              "      fill: #FFFFFF;\n",
              "    }\n",
              "  </style>\n",
              "\n",
              "      <script>\n",
              "        const buttonEl =\n",
              "          document.querySelector('#df-2b7f8899-05b6-471d-aa80-6a056d27ecf8 button.colab-df-convert');\n",
              "        buttonEl.style.display =\n",
              "          google.colab.kernel.accessAllowed ? 'block' : 'none';\n",
              "\n",
              "        async function convertToInteractive(key) {\n",
              "          const element = document.querySelector('#df-2b7f8899-05b6-471d-aa80-6a056d27ecf8');\n",
              "          const dataTable =\n",
              "            await google.colab.kernel.invokeFunction('convertToInteractive',\n",
              "                                                     [key], {});\n",
              "          if (!dataTable) return;\n",
              "\n",
              "          const docLinkHtml = 'Like what you see? Visit the ' +\n",
              "            '<a target=\"_blank\" href=https://colab.research.google.com/notebooks/data_table.ipynb>data table notebook</a>'\n",
              "            + ' to learn more about interactive tables.';\n",
              "          element.innerHTML = '';\n",
              "          dataTable['output_type'] = 'display_data';\n",
              "          await google.colab.output.renderOutput(dataTable, element);\n",
              "          const docLink = document.createElement('div');\n",
              "          docLink.innerHTML = docLinkHtml;\n",
              "          element.appendChild(docLink);\n",
              "        }\n",
              "      </script>\n",
              "    </div>\n",
              "  </div>\n",
              "  "
            ]
          },
          "metadata": {},
          "execution_count": 4
        }
      ]
    },
    {
      "cell_type": "code",
      "source": [
        "df_schema.head()"
      ],
      "metadata": {
        "colab": {
          "base_uri": "https://localhost:8080/",
          "height": 206
        },
        "id": "Kpel8aMoWpdD",
        "outputId": "46ab5f0f-ae01-4972-de2e-f80baf60fa87"
      },
      "execution_count": 5,
      "outputs": [
        {
          "output_type": "execute_result",
          "data": {
            "text/plain": [
              "         Column                                           Question\n",
              "0    Respondent                               Respondent ID number\n",
              "1  Professional         Which of the following best describes you?\n",
              "2  ProgramHobby  Do you program as a hobby or contribute to ope...\n",
              "3       Country            In which country do you currently live?\n",
              "4    University  Are you currently enrolled in a formal, degree..."
            ],
            "text/html": [
              "\n",
              "  <div id=\"df-cf0bcec1-813e-4224-bf0f-c2897df47301\">\n",
              "    <div class=\"colab-df-container\">\n",
              "      <div>\n",
              "<style scoped>\n",
              "    .dataframe tbody tr th:only-of-type {\n",
              "        vertical-align: middle;\n",
              "    }\n",
              "\n",
              "    .dataframe tbody tr th {\n",
              "        vertical-align: top;\n",
              "    }\n",
              "\n",
              "    .dataframe thead th {\n",
              "        text-align: right;\n",
              "    }\n",
              "</style>\n",
              "<table border=\"1\" class=\"dataframe\">\n",
              "  <thead>\n",
              "    <tr style=\"text-align: right;\">\n",
              "      <th></th>\n",
              "      <th>Column</th>\n",
              "      <th>Question</th>\n",
              "    </tr>\n",
              "  </thead>\n",
              "  <tbody>\n",
              "    <tr>\n",
              "      <th>0</th>\n",
              "      <td>Respondent</td>\n",
              "      <td>Respondent ID number</td>\n",
              "    </tr>\n",
              "    <tr>\n",
              "      <th>1</th>\n",
              "      <td>Professional</td>\n",
              "      <td>Which of the following best describes you?</td>\n",
              "    </tr>\n",
              "    <tr>\n",
              "      <th>2</th>\n",
              "      <td>ProgramHobby</td>\n",
              "      <td>Do you program as a hobby or contribute to ope...</td>\n",
              "    </tr>\n",
              "    <tr>\n",
              "      <th>3</th>\n",
              "      <td>Country</td>\n",
              "      <td>In which country do you currently live?</td>\n",
              "    </tr>\n",
              "    <tr>\n",
              "      <th>4</th>\n",
              "      <td>University</td>\n",
              "      <td>Are you currently enrolled in a formal, degree...</td>\n",
              "    </tr>\n",
              "  </tbody>\n",
              "</table>\n",
              "</div>\n",
              "      <button class=\"colab-df-convert\" onclick=\"convertToInteractive('df-cf0bcec1-813e-4224-bf0f-c2897df47301')\"\n",
              "              title=\"Convert this dataframe to an interactive table.\"\n",
              "              style=\"display:none;\">\n",
              "        \n",
              "  <svg xmlns=\"http://www.w3.org/2000/svg\" height=\"24px\"viewBox=\"0 0 24 24\"\n",
              "       width=\"24px\">\n",
              "    <path d=\"M0 0h24v24H0V0z\" fill=\"none\"/>\n",
              "    <path d=\"M18.56 5.44l.94 2.06.94-2.06 2.06-.94-2.06-.94-.94-2.06-.94 2.06-2.06.94zm-11 1L8.5 8.5l.94-2.06 2.06-.94-2.06-.94L8.5 2.5l-.94 2.06-2.06.94zm10 10l.94 2.06.94-2.06 2.06-.94-2.06-.94-.94-2.06-.94 2.06-2.06.94z\"/><path d=\"M17.41 7.96l-1.37-1.37c-.4-.4-.92-.59-1.43-.59-.52 0-1.04.2-1.43.59L10.3 9.45l-7.72 7.72c-.78.78-.78 2.05 0 2.83L4 21.41c.39.39.9.59 1.41.59.51 0 1.02-.2 1.41-.59l7.78-7.78 2.81-2.81c.8-.78.8-2.07 0-2.86zM5.41 20L4 18.59l7.72-7.72 1.47 1.35L5.41 20z\"/>\n",
              "  </svg>\n",
              "      </button>\n",
              "      \n",
              "  <style>\n",
              "    .colab-df-container {\n",
              "      display:flex;\n",
              "      flex-wrap:wrap;\n",
              "      gap: 12px;\n",
              "    }\n",
              "\n",
              "    .colab-df-convert {\n",
              "      background-color: #E8F0FE;\n",
              "      border: none;\n",
              "      border-radius: 50%;\n",
              "      cursor: pointer;\n",
              "      display: none;\n",
              "      fill: #1967D2;\n",
              "      height: 32px;\n",
              "      padding: 0 0 0 0;\n",
              "      width: 32px;\n",
              "    }\n",
              "\n",
              "    .colab-df-convert:hover {\n",
              "      background-color: #E2EBFA;\n",
              "      box-shadow: 0px 1px 2px rgba(60, 64, 67, 0.3), 0px 1px 3px 1px rgba(60, 64, 67, 0.15);\n",
              "      fill: #174EA6;\n",
              "    }\n",
              "\n",
              "    [theme=dark] .colab-df-convert {\n",
              "      background-color: #3B4455;\n",
              "      fill: #D2E3FC;\n",
              "    }\n",
              "\n",
              "    [theme=dark] .colab-df-convert:hover {\n",
              "      background-color: #434B5C;\n",
              "      box-shadow: 0px 1px 3px 1px rgba(0, 0, 0, 0.15);\n",
              "      filter: drop-shadow(0px 1px 2px rgba(0, 0, 0, 0.3));\n",
              "      fill: #FFFFFF;\n",
              "    }\n",
              "  </style>\n",
              "\n",
              "      <script>\n",
              "        const buttonEl =\n",
              "          document.querySelector('#df-cf0bcec1-813e-4224-bf0f-c2897df47301 button.colab-df-convert');\n",
              "        buttonEl.style.display =\n",
              "          google.colab.kernel.accessAllowed ? 'block' : 'none';\n",
              "\n",
              "        async function convertToInteractive(key) {\n",
              "          const element = document.querySelector('#df-cf0bcec1-813e-4224-bf0f-c2897df47301');\n",
              "          const dataTable =\n",
              "            await google.colab.kernel.invokeFunction('convertToInteractive',\n",
              "                                                     [key], {});\n",
              "          if (!dataTable) return;\n",
              "\n",
              "          const docLinkHtml = 'Like what you see? Visit the ' +\n",
              "            '<a target=\"_blank\" href=https://colab.research.google.com/notebooks/data_table.ipynb>data table notebook</a>'\n",
              "            + ' to learn more about interactive tables.';\n",
              "          element.innerHTML = '';\n",
              "          dataTable['output_type'] = 'display_data';\n",
              "          await google.colab.output.renderOutput(dataTable, element);\n",
              "          const docLink = document.createElement('div');\n",
              "          docLink.innerHTML = docLinkHtml;\n",
              "          element.appendChild(docLink);\n",
              "        }\n",
              "      </script>\n",
              "    </div>\n",
              "  </div>\n",
              "  "
            ]
          },
          "metadata": {},
          "execution_count": 5
        }
      ]
    },
    {
      "cell_type": "markdown",
      "source": [
        "> To answer the questions posed we will use the survey dataset of stackoverflow 2017. __[Stackoverflow Survey 2017](https://www.kaggle.com/datasets/stackoverflow/so-survey-2017)__"
      ],
      "metadata": {
        "id": "-fX3eZn2XlsI"
      }
    },
    {
      "cell_type": "code",
      "source": [
        "def get_description(col, df_schema):\n",
        "  '''\n",
        "  INPUT - schema - pandas dataframe with the schema of the developers survey\n",
        "          col - string - the name of the column you would like to know about\n",
        "  OUTPUT - \n",
        "          desc - dict - the description of the column\n",
        "  '''\n",
        "  try:\n",
        "    return {col :list(df_schema[df_schema['Column'] == col]['Question'])[0]}\n",
        "  except:\n",
        "    return {col : \"No result\"}"
      ],
      "metadata": {
        "id": "rX-0q5fOWtLu"
      },
      "execution_count": 6,
      "outputs": []
    },
    {
      "cell_type": "code",
      "source": [
        "def show_description(cols, schema):\n",
        "  '''\n",
        "  INPUT - schema - pandas dataframe with the schema of the developers survey\n",
        "          cols - list - list of the name of the column you would like to know about\n",
        "  '''\n",
        "  for col in cols:\n",
        "    print(get_description(col, schema))"
      ],
      "metadata": {
        "id": "i-rrhdxEfr1C"
      },
      "execution_count": 7,
      "outputs": []
    },
    {
      "cell_type": "markdown",
      "source": [
        "> List columns is used for analysis "
      ],
      "metadata": {
        "id": "ObZCQlnWlDFi"
      }
    },
    {
      "cell_type": "code",
      "source": [
        "list_cols = ['Professional', 'ProgramHobby', 'JobSatisfaction', 'Salary', 'Gender']"
      ],
      "metadata": {
        "id": "0MLTqZsgcFdZ"
      },
      "execution_count": 8,
      "outputs": []
    },
    {
      "cell_type": "markdown",
      "source": [
        "> View description of each column"
      ],
      "metadata": {
        "id": "cW_4msKGlNRP"
      }
    },
    {
      "cell_type": "code",
      "source": [
        "show_description(list_cols, df_schema)"
      ],
      "metadata": {
        "colab": {
          "base_uri": "https://localhost:8080/"
        },
        "id": "73-gORWIrsnN",
        "outputId": "a6b16e23-1b62-4a46-bd32-e3de9f15e43c"
      },
      "execution_count": 9,
      "outputs": [
        {
          "output_type": "stream",
          "name": "stdout",
          "text": [
            "{'Professional': 'Which of the following best describes you?'}\n",
            "{'ProgramHobby': 'Do you program as a hobby or contribute to open source projects?'}\n",
            "{'JobSatisfaction': 'Job satisfaction rating'}\n",
            "{'Salary': 'What is your current annual base salary, before taxes, and excluding bonuses, grants, or other compensation?'}\n",
            "{'Gender': 'Which of the following do you currently identify as?'}\n"
          ]
        }
      ]
    },
    {
      "cell_type": "markdown",
      "source": [
        "> Overview data and check null"
      ],
      "metadata": {
        "id": "Xpq4VqYiro-k"
      }
    },
    {
      "cell_type": "code",
      "source": [
        "def get_col_info(col, df):\n",
        "  '''\n",
        "  INPUT - df - pandas dataframe with the data of the developers survey\n",
        "          col - string - the name of the column you would like to know about\n",
        "  OUTPUT - \n",
        "          info - dict - the information of the column with type and unique value for categorical column and check Nan for quantitative column\n",
        "  '''\n",
        "  if df[col].dtype == 'O':\n",
        "    unique_data = list(df[col].unique())\n",
        "    return {\"type\" : str(df[col].dtype), \"category_count\": len(unique_data), \"data\" : unique_data}\n",
        "  else:\n",
        "    return {\"type\" : str(df[col].dtype), \"null_value_count\" : df[col].isnull().values.sum()}\n"
      ],
      "metadata": {
        "id": "71GwwJvUfhO3"
      },
      "execution_count": 10,
      "outputs": []
    },
    {
      "cell_type": "code",
      "source": [
        "for col in list_cols:\n",
        "  print({col: get_col_info(col, df)})"
      ],
      "metadata": {
        "colab": {
          "base_uri": "https://localhost:8080/"
        },
        "id": "MfGachZ7lh6_",
        "outputId": "a258b21f-881b-4dd6-afee-cc52aff85a59"
      },
      "execution_count": 11,
      "outputs": [
        {
          "output_type": "stream",
          "name": "stdout",
          "text": [
            "{'Professional': {'type': 'object', 'category_count': 5, 'data': ['Student', 'Professional developer', 'Professional non-developer who sometimes writes code', 'Used to be a professional developer', 'None of these']}}\n",
            "{'ProgramHobby': {'type': 'object', 'category_count': 4, 'data': ['Yes, both', 'Yes, I program as a hobby', 'No', 'Yes, I contribute to open source projects']}}\n",
            "{'JobSatisfaction': {'type': 'float64', 'null_value_count': 11016}}\n",
            "{'Salary': {'type': 'float64', 'null_value_count': 38501}}\n",
            "{'Gender': {'type': 'object', 'category_count': 30, 'data': ['Male', nan, 'Female', 'Gender non-conforming', 'Other', 'Male; Gender non-conforming', 'Female; Transgender', 'Male; Female', 'Male; Other', 'Transgender', 'Transgender; Gender non-conforming', 'Female; Gender non-conforming', 'Male; Female; Transgender; Gender non-conforming; Other', 'Male; Female; Transgender', 'Male; Female; Other', 'Male; Female; Transgender; Gender non-conforming', 'Male; Transgender', 'Female; Transgender; Gender non-conforming', 'Gender non-conforming; Other', 'Male; Female; Gender non-conforming', 'Female; Other', 'Male; Transgender; Gender non-conforming', 'Transgender; Other', 'Male; Gender non-conforming; Other', 'Female; Gender non-conforming; Other', 'Male; Female; Gender non-conforming; Other', 'Female; Transgender; Other', 'Female; Transgender; Gender non-conforming; Other', 'Male; Transgender; Other', 'Male; Female; Transgender; Other']}}\n"
          ]
        }
      ]
    },
    {
      "cell_type": "markdown",
      "source": [
        "### 3.Prepare Data\n",
        "\n",
        "1. **`Gender`** We have 30 categories for gender. We need custom gender to Male, Female, Transgender, Other with following rules:\n",
        "  - `Male` for records only contain `Male`\n",
        "  - `Female` for records only contain `Female`\n",
        "  - `Transgender` for records contain `Transgender`\n",
        "  - `Other` for the rest\n",
        "\n",
        "2. **`Professional`** not change\n",
        "\n",
        "3. **`ProgramHobby`** not change\n",
        "\n",
        "4. **`JobSatisfaction`** Drop Null values. When Used to answer question number 3  \n",
        "\n",
        "5. **`Salary`** Drop Null values. When Used to answer question number 4\n"
      ],
      "metadata": {
        "id": "B1V97HpsveFP"
      }
    },
    {
      "cell_type": "code",
      "source": [
        "def preprocessing_data(df, columns, cols_dropna = [], ignore_col = False):\n",
        "  '''\n",
        "  INPUT - df - pandas dataframe with the data of the developers survey\n",
        "          columns - list - list of the name of the column you would like to know about\n",
        "          cols_dropna - list -  list of the name of the column you will drop null values by row\n",
        "          ignore_col - boolean - whether or not to ignore handling 'Gender' column \n",
        "  OUTPUT - \n",
        "          df_new - DataFrame - pandas dataframe with the data after preprocessing\n",
        "  '''\n",
        "  df_new = df[columns]\n",
        "  for col in columns:\n",
        "    if (col == 'Gender') & (ignore_col == False):\n",
        "      mark_transgender = df_new[col].str.contains('Transgender', na=False)\n",
        "      df_new.loc[mark_transgender, col] = 'Transgender'\n",
        "      mark_order = ~((df[col] == 'Male' )| (df[col] == 'Female' )| (df[col] == 'Transgender'))\n",
        "      df_new.loc[mark_order, col] = 'Other'\n",
        "  if cols_dropna != []:\n",
        "    df_new.dropna(subset = cols_dropna, inplace = True)\n",
        "  return df_new"
      ],
      "metadata": {
        "id": "fgCqJb3evd3i"
      },
      "execution_count": 12,
      "outputs": []
    },
    {
      "cell_type": "code",
      "source": [
        "df_new = preprocessing_data(df, list_cols, cols_dropna = [], ignore_col = False)"
      ],
      "metadata": {
        "colab": {
          "base_uri": "https://localhost:8080/"
        },
        "id": "EkS8ziEfkLSi",
        "outputId": "b8e00c28-5ae6-4e71-e2b2-3effbd02e7cf"
      },
      "execution_count": 13,
      "outputs": [
        {
          "output_type": "stream",
          "name": "stderr",
          "text": [
            "/usr/local/lib/python3.7/dist-packages/pandas/core/indexing.py:1817: SettingWithCopyWarning: \n",
            "A value is trying to be set on a copy of a slice from a DataFrame.\n",
            "Try using .loc[row_indexer,col_indexer] = value instead\n",
            "\n",
            "See the caveats in the documentation: https://pandas.pydata.org/pandas-docs/stable/user_guide/indexing.html#returning-a-view-versus-a-copy\n",
            "  self._setitem_single_column(loc, value, pi)\n"
          ]
        }
      ]
    },
    {
      "cell_type": "markdown",
      "source": [
        "### Results\n",
        "1. What is the gender proportion for developers?\n",
        "> After processing the data, this is a relatively easy question. We just need to count the number of items using the gender column. Here we will create a column chart to visualize the data"
      ],
      "metadata": {
        "id": "KvTvOBp9xVkL"
      }
    },
    {
      "cell_type": "code",
      "source": [
        "def gender_proportion_bar(df, title='Gender proportion for developers', plot=True):\n",
        "    '''\n",
        "    INPUT \n",
        "        df - a dataframe holding the Gender column\n",
        "        title - string the title of your plot\n",
        "        plot - bool providing whether or not you want a plot back\n",
        "        \n",
        "    OUTPUT\n",
        "        props_gender_df - a dataframe with the proportion of each gender category\n",
        "        Displays a plot of pretty things related to the Gender column.\n",
        "    '''\n",
        "    gender_df = df['Gender'].value_counts()\n",
        "    if plot:\n",
        "        (gender_df/len(df)).plot(kind='bar', legend=None);\n",
        "        plt.title(title);\n",
        "        plt.show()\n",
        "    props_gender_df = gender_df/len(df)\n",
        "    return props_gender_df\n",
        "    \n",
        "props_df = gender_proportion_bar(df_new)"
      ],
      "metadata": {
        "colab": {
          "base_uri": "https://localhost:8080/",
          "height": 333
        },
        "id": "2JOvKFZBr0i9",
        "outputId": "e0a171b1-336f-42ec-a7db-4b1d7b691486"
      },
      "execution_count": 14,
      "outputs": [
        {
          "output_type": "display_data",
          "data": {
            "text/plain": [
              "<Figure size 432x288 with 1 Axes>"
            ],
            "image/png": "[encoded data removed]"
          },
          "metadata": {
            "needs_background": "light"
          }
        }
      ]
    },
    {
      "cell_type": "code",
      "source": [
        "props_df"
      ],
      "metadata": {
        "colab": {
          "base_uri": "https://localhost:8080/"
        },
        "id": "e7niiyINum-K",
        "outputId": "c612b173-6aa4-4835-c910-7d0d13c2516b"
      },
      "execution_count": 15,
      "outputs": [
        {
          "output_type": "execute_result",
          "data": {
            "text/plain": [
              "Male           0.614668\n",
              "Other          0.333671\n",
              "Female         0.050592\n",
              "Transgender    0.001070\n",
              "Name: Gender, dtype: float64"
            ]
          },
          "metadata": {},
          "execution_count": 15
        }
      ]
    },
    {
      "cell_type": "markdown",
      "source": [
        "> From the Gender proportion for Developers Chart,  we can notice that the gender proportion for developers has a huge disparity. Specifically: \n",
        "  1. Mostly male developers (61.4%).\n",
        "  2. Only about 5.1% of the total survey respondents are female. This shows that the level of female interest in developers is not high.\n",
        "  3. More than 33% of survey respondents do not want to reveal their gender or set a non-specific gender.\n",
        "  4. There are developers who are transgender but very few.\n",
        "  5. The proportion of female to male developers is 8.3%. This is equivalent to a technology company with 12 men, only 1 female in it."
      ],
      "metadata": {
        "id": "UqD8J8af2ifp"
      }
    },
    {
      "cell_type": "markdown",
      "source": [
        "> With such disparity in the number of developers between men and women. Will female developers lose out on qualifications or salary or do they feel satisfied with their work when they choose to be a developer? We will continue to search for the answer\n",
        "2. Are there professional differences between men and women?"
      ],
      "metadata": {
        "id": "giJw_X3r3MDk"
      }
    },
    {
      "cell_type": "code",
      "source": [
        "def count_bar(df, columns, gender_categories = ['Male','Female'], title = 'Gender and Program hobby', col_analysis = 'ProgramHobby', plot = False):\n",
        "    '''\n",
        "    INPUT \n",
        "        df - a dataframe holding the some columns you need\n",
        "        columns - list - list of the name of the column you would like to know about\n",
        "        gender_categories - gender categories for analysis you want\n",
        "        title - string the title of your plot\n",
        "        col_analysis - str - column mane will parse by gender\n",
        "        plot - bool providing whether or not you want a plot back\n",
        "        \n",
        "    OUTPUT\n",
        "        gender_df - a dataframe with the count of each gender category\n",
        "        Displays a plot of pretty things related to the Professional column.\n",
        "    '''\n",
        "    gender = {'Gender': gender_categories}\n",
        "    df_new = preprocessing_data(df, columns, cols_dropna = [col_analysis], ignore_col = True)\n",
        "\n",
        "    if col_analysis == 'ProgramHobby':\n",
        "      df_new['mark'] = df_new['ProgramHobby'] != 'No'\n",
        "    elif col_analysis == 'Professional':\n",
        "      df_new['mark'] = ((df['Professional'] == 'Professional developer') | (df['Professional'] == 'Used to be a professional developer'))\n",
        "\n",
        "    gender['GenderCount'] = [len(df_new[df_new['Gender'] == gen]) for gen in gender['Gender']]\n",
        "    gender['Count'] = [len(df_new[(df_new['Gender'] == gen) & (df_new['mark'] == True)]) for gen in gender['Gender']]\n",
        "    gender['Proportion'] = np.array(gender['Count'])/np.array(gender['GenderCount'])\n",
        "    gender_df = pd.DataFrame(gender)\n",
        "\n",
        "    if plot:\n",
        "        plt.bar(gender_df['Gender'],gender['Proportion']);\n",
        "        plt.title(title); \n",
        "        plt.show()\n",
        "    return gender_df\n",
        "\n",
        "    \n",
        "hobby_props_df = count_bar(df_new, list_cols, plot = True)"
      ],
      "metadata": {
        "id": "2cPue3ua3Lfa",
        "colab": {
          "base_uri": "https://localhost:8080/",
          "height": 281
        },
        "outputId": "0462df62-a2f3-4b63-a984-c6fa64d9fdb7"
      },
      "execution_count": 16,
      "outputs": [
        {
          "output_type": "display_data",
          "data": {
            "text/plain": [
              "<Figure size 432x288 with 1 Axes>"
            ],
            "image/png": "[encoded data removed]"
          },
          "metadata": {
            "needs_background": "light"
          }
        }
      ]
    },
    {
      "cell_type": "code",
      "source": [
        "hobby_props_df"
      ],
      "metadata": {
        "colab": {
          "base_uri": "https://localhost:8080/",
          "height": 112
        },
        "id": "U6ZDjk9bUenm",
        "outputId": "cfd648eb-8f3d-4bb4-bdcd-865908d16678"
      },
      "execution_count": 17,
      "outputs": [
        {
          "output_type": "execute_result",
          "data": {
            "text/plain": [
              "   Gender  GenderCount  Count  Proportion\n",
              "0    Male        31589  26369    0.834753\n",
              "1  Female         2600   1716    0.660000"
            ],
            "text/html": [
              "\n",
              "  <div id=\"df-8ff3e0bc-9a33-4570-81ee-f1733eea0585\">\n",
              "    <div class=\"colab-df-container\">\n",
              "      <div>\n",
              "<style scoped>\n",
              "    .dataframe tbody tr th:only-of-type {\n",
              "        vertical-align: middle;\n",
              "    }\n",
              "\n",
              "    .dataframe tbody tr th {\n",
              "        vertical-align: top;\n",
              "    }\n",
              "\n",
              "    .dataframe thead th {\n",
              "        text-align: right;\n",
              "    }\n",
              "</style>\n",
              "<table border=\"1\" class=\"dataframe\">\n",
              "  <thead>\n",
              "    <tr style=\"text-align: right;\">\n",
              "      <th></th>\n",
              "      <th>Gender</th>\n",
              "      <th>GenderCount</th>\n",
              "      <th>Count</th>\n",
              "      <th>Proportion</th>\n",
              "    </tr>\n",
              "  </thead>\n",
              "  <tbody>\n",
              "    <tr>\n",
              "      <th>0</th>\n",
              "      <td>Male</td>\n",
              "      <td>31589</td>\n",
              "      <td>26369</td>\n",
              "      <td>0.834753</td>\n",
              "    </tr>\n",
              "    <tr>\n",
              "      <th>1</th>\n",
              "      <td>Female</td>\n",
              "      <td>2600</td>\n",
              "      <td>1716</td>\n",
              "      <td>0.660000</td>\n",
              "    </tr>\n",
              "  </tbody>\n",
              "</table>\n",
              "</div>\n",
              "      <button class=\"colab-df-convert\" onclick=\"convertToInteractive('df-8ff3e0bc-9a33-4570-81ee-f1733eea0585')\"\n",
              "              title=\"Convert this dataframe to an interactive table.\"\n",
              "              style=\"display:none;\">\n",
              "        \n",
              "  <svg xmlns=\"http://www.w3.org/2000/svg\" height=\"24px\"viewBox=\"0 0 24 24\"\n",
              "       width=\"24px\">\n",
              "    <path d=\"M0 0h24v24H0V0z\" fill=\"none\"/>\n",
              "    <path d=\"M18.56 5.44l.94 2.06.94-2.06 2.06-.94-2.06-.94-.94-2.06-.94 2.06-2.06.94zm-11 1L8.5 8.5l.94-2.06 2.06-.94-2.06-.94L8.5 2.5l-.94 2.06-2.06.94zm10 10l.94 2.06.94-2.06 2.06-.94-2.06-.94-.94-2.06-.94 2.06-2.06.94z\"/><path d=\"M17.41 7.96l-1.37-1.37c-.4-.4-.92-.59-1.43-.59-.52 0-1.04.2-1.43.59L10.3 9.45l-7.72 7.72c-.78.78-.78 2.05 0 2.83L4 21.41c.39.39.9.59 1.41.59.51 0 1.02-.2 1.41-.59l7.78-7.78 2.81-2.81c.8-.78.8-2.07 0-2.86zM5.41 20L4 18.59l7.72-7.72 1.47 1.35L5.41 20z\"/>\n",
              "  </svg>\n",
              "      </button>\n",
              "      \n",
              "  <style>\n",
              "    .colab-df-container {\n",
              "      display:flex;\n",
              "      flex-wrap:wrap;\n",
              "      gap: 12px;\n",
              "    }\n",
              "\n",
              "    .colab-df-convert {\n",
              "      background-color: #E8F0FE;\n",
              "      border: none;\n",
              "      border-radius: 50%;\n",
              "      cursor: pointer;\n",
              "      display: none;\n",
              "      fill: #1967D2;\n",
              "      height: 32px;\n",
              "      padding: 0 0 0 0;\n",
              "      width: 32px;\n",
              "    }\n",
              "\n",
              "    .colab-df-convert:hover {\n",
              "      background-color: #E2EBFA;\n",
              "      box-shadow: 0px 1px 2px rgba(60, 64, 67, 0.3), 0px 1px 3px 1px rgba(60, 64, 67, 0.15);\n",
              "      fill: #174EA6;\n",
              "    }\n",
              "\n",
              "    [theme=dark] .colab-df-convert {\n",
              "      background-color: #3B4455;\n",
              "      fill: #D2E3FC;\n",
              "    }\n",
              "\n",
              "    [theme=dark] .colab-df-convert:hover {\n",
              "      background-color: #434B5C;\n",
              "      box-shadow: 0px 1px 3px 1px rgba(0, 0, 0, 0.15);\n",
              "      filter: drop-shadow(0px 1px 2px rgba(0, 0, 0, 0.3));\n",
              "      fill: #FFFFFF;\n",
              "    }\n",
              "  </style>\n",
              "\n",
              "      <script>\n",
              "        const buttonEl =\n",
              "          document.querySelector('#df-8ff3e0bc-9a33-4570-81ee-f1733eea0585 button.colab-df-convert');\n",
              "        buttonEl.style.display =\n",
              "          google.colab.kernel.accessAllowed ? 'block' : 'none';\n",
              "\n",
              "        async function convertToInteractive(key) {\n",
              "          const element = document.querySelector('#df-8ff3e0bc-9a33-4570-81ee-f1733eea0585');\n",
              "          const dataTable =\n",
              "            await google.colab.kernel.invokeFunction('convertToInteractive',\n",
              "                                                     [key], {});\n",
              "          if (!dataTable) return;\n",
              "\n",
              "          const docLinkHtml = 'Like what you see? Visit the ' +\n",
              "            '<a target=\"_blank\" href=https://colab.research.google.com/notebooks/data_table.ipynb>data table notebook</a>'\n",
              "            + ' to learn more about interactive tables.';\n",
              "          element.innerHTML = '';\n",
              "          dataTable['output_type'] = 'display_data';\n",
              "          await google.colab.output.renderOutput(dataTable, element);\n",
              "          const docLink = document.createElement('div');\n",
              "          docLink.innerHTML = docLinkHtml;\n",
              "          element.appendChild(docLink);\n",
              "        }\n",
              "      </script>\n",
              "    </div>\n",
              "  </div>\n",
              "  "
            ]
          },
          "metadata": {},
          "execution_count": 17
        }
      ]
    },
    {
      "cell_type": "markdown",
      "source": [
        "> In general, being a developer for both men and women is usually based on their programming interests. However, this rate is very high in men (about 83%)."
      ],
      "metadata": {
        "id": "VUJo-x2GURhC"
      }
    },
    {
      "cell_type": "code",
      "source": [
        "professtional_props_df = count_bar(df_new, list_cols, title = 'Gender and Professional',  col_analysis = 'Professional', plot = True)"
      ],
      "metadata": {
        "colab": {
          "base_uri": "https://localhost:8080/",
          "height": 281
        },
        "id": "U8iLQEMRVaR5",
        "outputId": "b37f5ff2-5b27-4548-f695-d01b1c07dfdc"
      },
      "execution_count": 18,
      "outputs": [
        {
          "output_type": "display_data",
          "data": {
            "text/plain": [
              "<Figure size 432x288 with 1 Axes>"
            ],
            "image/png": "[encoded data removed]"
          },
          "metadata": {
            "needs_background": "light"
          }
        }
      ]
    },
    {
      "cell_type": "code",
      "source": [
        "professtional_props_df"
      ],
      "metadata": {
        "colab": {
          "base_uri": "https://localhost:8080/",
          "height": 112
        },
        "id": "fxUaYei6XS2d",
        "outputId": "7d9c8ea5-fcc2-4a9d-8e38-a0aed24c2f8c"
      },
      "execution_count": 19,
      "outputs": [
        {
          "output_type": "execute_result",
          "data": {
            "text/plain": [
              "   Gender  GenderCount  Count  Proportion\n",
              "0    Male        31589  24351    0.770870\n",
              "1  Female         2600   1894    0.728462"
            ],
            "text/html": [
              "\n",
              "  <div id=\"df-7d29fe27-f521-4d48-90c8-119bfa4d4036\">\n",
              "    <div class=\"colab-df-container\">\n",
              "      <div>\n",
              "<style scoped>\n",
              "    .dataframe tbody tr th:only-of-type {\n",
              "        vertical-align: middle;\n",
              "    }\n",
              "\n",
              "    .dataframe tbody tr th {\n",
              "        vertical-align: top;\n",
              "    }\n",
              "\n",
              "    .dataframe thead th {\n",
              "        text-align: right;\n",
              "    }\n",
              "</style>\n",
              "<table border=\"1\" class=\"dataframe\">\n",
              "  <thead>\n",
              "    <tr style=\"text-align: right;\">\n",
              "      <th></th>\n",
              "      <th>Gender</th>\n",
              "      <th>GenderCount</th>\n",
              "      <th>Count</th>\n",
              "      <th>Proportion</th>\n",
              "    </tr>\n",
              "  </thead>\n",
              "  <tbody>\n",
              "    <tr>\n",
              "      <th>0</th>\n",
              "      <td>Male</td>\n",
              "      <td>31589</td>\n",
              "      <td>24351</td>\n",
              "      <td>0.770870</td>\n",
              "    </tr>\n",
              "    <tr>\n",
              "      <th>1</th>\n",
              "      <td>Female</td>\n",
              "      <td>2600</td>\n",
              "      <td>1894</td>\n",
              "      <td>0.728462</td>\n",
              "    </tr>\n",
              "  </tbody>\n",
              "</table>\n",
              "</div>\n",
              "      <button class=\"colab-df-convert\" onclick=\"convertToInteractive('df-7d29fe27-f521-4d48-90c8-119bfa4d4036')\"\n",
              "              title=\"Convert this dataframe to an interactive table.\"\n",
              "              style=\"display:none;\">\n",
              "        \n",
              "  <svg xmlns=\"http://www.w3.org/2000/svg\" height=\"24px\"viewBox=\"0 0 24 24\"\n",
              "       width=\"24px\">\n",
              "    <path d=\"M0 0h24v24H0V0z\" fill=\"none\"/>\n",
              "    <path d=\"M18.56 5.44l.94 2.06.94-2.06 2.06-.94-2.06-.94-.94-2.06-.94 2.06-2.06.94zm-11 1L8.5 8.5l.94-2.06 2.06-.94-2.06-.94L8.5 2.5l-.94 2.06-2.06.94zm10 10l.94 2.06.94-2.06 2.06-.94-2.06-.94-.94-2.06-.94 2.06-2.06.94z\"/><path d=\"M17.41 7.96l-1.37-1.37c-.4-.4-.92-.59-1.43-.59-.52 0-1.04.2-1.43.59L10.3 9.45l-7.72 7.72c-.78.78-.78 2.05 0 2.83L4 21.41c.39.39.9.59 1.41.59.51 0 1.02-.2 1.41-.59l7.78-7.78 2.81-2.81c.8-.78.8-2.07 0-2.86zM5.41 20L4 18.59l7.72-7.72 1.47 1.35L5.41 20z\"/>\n",
              "  </svg>\n",
              "      </button>\n",
              "      \n",
              "  <style>\n",
              "    .colab-df-container {\n",
              "      display:flex;\n",
              "      flex-wrap:wrap;\n",
              "      gap: 12px;\n",
              "    }\n",
              "\n",
              "    .colab-df-convert {\n",
              "      background-color: #E8F0FE;\n",
              "      border: none;\n",
              "      border-radius: 50%;\n",
              "      cursor: pointer;\n",
              "      display: none;\n",
              "      fill: #1967D2;\n",
              "      height: 32px;\n",
              "      padding: 0 0 0 0;\n",
              "      width: 32px;\n",
              "    }\n",
              "\n",
              "    .colab-df-convert:hover {\n",
              "      background-color: #E2EBFA;\n",
              "      box-shadow: 0px 1px 2px rgba(60, 64, 67, 0.3), 0px 1px 3px 1px rgba(60, 64, 67, 0.15);\n",
              "      fill: #174EA6;\n",
              "    }\n",
              "\n",
              "    [theme=dark] .colab-df-convert {\n",
              "      background-color: #3B4455;\n",
              "      fill: #D2E3FC;\n",
              "    }\n",
              "\n",
              "    [theme=dark] .colab-df-convert:hover {\n",
              "      background-color: #434B5C;\n",
              "      box-shadow: 0px 1px 3px 1px rgba(0, 0, 0, 0.15);\n",
              "      filter: drop-shadow(0px 1px 2px rgba(0, 0, 0, 0.3));\n",
              "      fill: #FFFFFF;\n",
              "    }\n",
              "  </style>\n",
              "\n",
              "      <script>\n",
              "        const buttonEl =\n",
              "          document.querySelector('#df-7d29fe27-f521-4d48-90c8-119bfa4d4036 button.colab-df-convert');\n",
              "        buttonEl.style.display =\n",
              "          google.colab.kernel.accessAllowed ? 'block' : 'none';\n",
              "\n",
              "        async function convertToInteractive(key) {\n",
              "          const element = document.querySelector('#df-7d29fe27-f521-4d48-90c8-119bfa4d4036');\n",
              "          const dataTable =\n",
              "            await google.colab.kernel.invokeFunction('convertToInteractive',\n",
              "                                                     [key], {});\n",
              "          if (!dataTable) return;\n",
              "\n",
              "          const docLinkHtml = 'Like what you see? Visit the ' +\n",
              "            '<a target=\"_blank\" href=https://colab.research.google.com/notebooks/data_table.ipynb>data table notebook</a>'\n",
              "            + ' to learn more about interactive tables.';\n",
              "          element.innerHTML = '';\n",
              "          dataTable['output_type'] = 'display_data';\n",
              "          await google.colab.output.renderOutput(dataTable, element);\n",
              "          const docLink = document.createElement('div');\n",
              "          docLink.innerHTML = docLinkHtml;\n",
              "          element.appendChild(docLink);\n",
              "        }\n",
              "      </script>\n",
              "    </div>\n",
              "  </div>\n",
              "  "
            ]
          },
          "metadata": {},
          "execution_count": 19
        }
      ]
    },
    {
      "cell_type": "markdown",
      "source": [
        "> Incredible. Although the percentage of women as a developer is much lower than that of men, it is not for that reason that they lose in terms of their skills and qualifications. The graph shows that the percentage of women who are professional developers or were once professional developers is almost equal to that of men (73% versus 77%). This means that once women have liked and chosen to become developers, they will be as professional as men."
      ],
      "metadata": {
        "id": "eoRze8wSXRRH"
      }
    },
    {
      "cell_type": "markdown",
      "source": [
        "### So, when women become developers, are they satisfied with their work?\n",
        "- With question number 3, we also only focus on 2 genders male and female"
      ],
      "metadata": {
        "id": "sHWbkTtTZN22"
      }
    },
    {
      "cell_type": "code",
      "source": [
        "def aggregate_bar(df, columns, gender_categories = ['Male','Female'], title = 'Gender and JobSatisfaction', col_analysis = 'JobSatisfaction', plot = False):\n",
        "    '''\n",
        "    INPUT \n",
        "        df - a dataframe holding the some columns you need\n",
        "        columns - list - list of the name of the column you would like to know about\n",
        "        gender_categories - gender categories for analysis you want\n",
        "        title - string the title of your plot\n",
        "        col_analysis - str - column mane will parse by gender\n",
        "        plot - bool providing whether or not you want a plot back\n",
        "        \n",
        "    OUTPUT\n",
        "        aggregate_df - a dataframe with the aggregate data, group by gender\n",
        "        Displays a plot of pretty things related to the Professional column.\n",
        "    '''\n",
        "    gender = {'Gender': gender_categories}\n",
        "    df_new = preprocessing_data(df, columns, cols_dropna = [col_analysis], ignore_col = True)\n",
        "    df_new = df_new[df_new['Gender'].str.contains('|'.join(gender_categories))]\n",
        "    aggregate_df = df_new.groupby(['Gender'])[col_analysis].mean().sort_values()\n",
        "\n",
        "    if plot:\n",
        "        (aggregate_df).plot(kind='bar', legend=None);\n",
        "        plt.title(title); \n",
        "        plt.show()\n",
        "    return aggregate_df"
      ],
      "metadata": {
        "id": "IPepFbiWaap3"
      },
      "execution_count": 20,
      "outputs": []
    },
    {
      "cell_type": "code",
      "source": [
        " job_satisfaction_df = aggregate_bar(df_new, list_cols, col_analysis = 'JobSatisfaction', plot = True)"
      ],
      "metadata": {
        "colab": {
          "base_uri": "https://localhost:8080/",
          "height": 321
        },
        "id": "VYC-wUOpc39i",
        "outputId": "fbec7e84-f8aa-473d-97cb-e1615adf10c2"
      },
      "execution_count": 21,
      "outputs": [
        {
          "output_type": "display_data",
          "data": {
            "text/plain": [
              "<Figure size 432x288 with 1 Axes>"
            ],
            "image/png": "[encoded data removed]"
          },
          "metadata": {
            "needs_background": "light"
          }
        }
      ]
    },
    {
      "cell_type": "code",
      "source": [
        " job_satisfaction_df"
      ],
      "metadata": {
        "colab": {
          "base_uri": "https://localhost:8080/"
        },
        "id": "iGDsSqC-dGl3",
        "outputId": "75421cc6-b3ad-4a4d-f658-c0537e71ad95"
      },
      "execution_count": 22,
      "outputs": [
        {
          "output_type": "execute_result",
          "data": {
            "text/plain": [
              "Gender\n",
              "Female    6.936620\n",
              "Male      7.004372\n",
              "Name: JobSatisfaction, dtype: float64"
            ]
          },
          "metadata": {},
          "execution_count": 22
        }
      ]
    },
    {
      "cell_type": "markdown",
      "source": [
        "> Like men, women's job satisfaction is also very high, at 7.0 and 6.9 points, respectively. This is true and it approximates their rate of programming love. We can say that most people who love programming will feel quite satisfied with their work"
      ],
      "metadata": {
        "id": "stWalOiWeIt0"
      }
    },
    {
      "cell_type": "markdown",
      "source": [
        "### With the above information, do you think the average salary of men and women is different? Let's check together.\n",
        "4. How does gender affect salary?"
      ],
      "metadata": {
        "id": "LjYL-MmKe2PD"
      }
    },
    {
      "cell_type": "code",
      "source": [
        "salary_df = aggregate_bar(df_new, list_cols, col_analysis = 'Salary', plot = True)"
      ],
      "metadata": {
        "colab": {
          "base_uri": "https://localhost:8080/",
          "height": 321
        },
        "id": "sjfcqJhueITM",
        "outputId": "4c1d40af-728a-40a2-b38f-acc4d92534c3"
      },
      "execution_count": 23,
      "outputs": [
        {
          "output_type": "display_data",
          "data": {
            "text/plain": [
              "<Figure size 432x288 with 1 Axes>"
            ],
            "image/png": "[encoded data removed]"
          },
          "metadata": {
            "needs_background": "light"
          }
        }
      ]
    },
    {
      "cell_type": "code",
      "source": [
        "salary_df"
      ],
      "metadata": {
        "colab": {
          "base_uri": "https://localhost:8080/"
        },
        "id": "x3_233hwf-hC",
        "outputId": "71e640eb-47e7-4288-d30e-7f64ecc1f3dc"
      },
      "execution_count": 24,
      "outputs": [
        {
          "output_type": "execute_result",
          "data": {
            "text/plain": [
              "Gender\n",
              "Male      56996.494293\n",
              "Female    58083.924534\n",
              "Name: Salary, dtype: float64"
            ]
          },
          "metadata": {},
          "execution_count": 24
        }
      ]
    },
    {
      "cell_type": "markdown",
      "source": [
        "> Wow, Unexpectedly, the average salary of women is as high as that of men and even slightly better (58083.90 vs 56996.5). It shows that paying a developer does not depend on gender but on their actual ability."
      ],
      "metadata": {
        "id": "VIStV2PXgCWQ"
      }
    },
    {
      "cell_type": "markdown",
      "source": [
        "### Summary\n",
        "> With the questions asked, we can conclude that becoming a developer is a very picky field for women. There are very few women becoming developers. However, the capacity of female developers is very high, and their remuneration is also commensurate."
      ],
      "metadata": {
        "id": "MU76aDvIg6LX"
      }
    },
    {
      "cell_type": "markdown",
      "source": [
        "\n",
        "### Discuss\n",
        "> The next question is whether the number of female developers will increase in the future? and with their capabilities, how can we attract more women to become developers? Please comment on this."
      ],
      "metadata": {
        "id": "_b8lyIjbjtAf"
      }
    },
    {
      "cell_type": "code",
      "source": [],
      "metadata": {
        "id": "ejn-rlSXcjwY"
      },
      "execution_count": 24,
      "outputs": []
    }
  ]
}